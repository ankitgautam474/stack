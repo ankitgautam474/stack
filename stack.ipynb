{
 "cells": [
  {
   "cell_type": "code",
   "execution_count": 1,
   "id": "7f13a009",
   "metadata": {},
   "outputs": [
    {
     "data": {
      "text/plain": [
       "[1, 2, 3, 4, 5]"
      ]
     },
     "execution_count": 1,
     "metadata": {},
     "output_type": "execute_result"
    }
   ],
   "source": [
    "def reverse_stack(stack):\n",
    "    if not stack:\n",
    "        return\n",
    "\n",
    "    aux_stack = []\n",
    "\n",
    "    # Pop elements from the original stack and push them onto the auxiliary stack\n",
    "    while stack:\n",
    "        aux_stack.append(stack.pop())\n",
    "\n",
    "    # Pop elements from the auxiliary stack and push them back onto the original stack\n",
    "    while aux_stack:\n",
    "        stack.append(aux_stack.pop())\n",
    "\n",
    "# Example usage:\n",
    "original_stack = [1, 2, 3, 4, 5]\n",
    "reverse_stack(original_stack)\n",
    "original_stack\n"
   ]
  },
  {
   "cell_type": "code",
   "execution_count": null,
   "id": "3c330ef6",
   "metadata": {},
   "outputs": [],
   "source": []
  }
 ],
 "metadata": {
  "kernelspec": {
   "display_name": "Python 3 (ipykernel)",
   "language": "python",
   "name": "python3"
  },
  "language_info": {
   "codemirror_mode": {
    "name": "ipython",
    "version": 3
   },
   "file_extension": ".py",
   "mimetype": "text/x-python",
   "name": "python",
   "nbconvert_exporter": "python",
   "pygments_lexer": "ipython3",
   "version": "3.11.4"
  }
 },
 "nbformat": 4,
 "nbformat_minor": 5
}
